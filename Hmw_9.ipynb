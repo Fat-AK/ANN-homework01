{
 "cells": [
  {
   "cell_type": "code",
   "execution_count": 1,
   "id": "a6e2c14a-4f65-42ae-9e39-9104adde3437",
   "metadata": {},
   "outputs": [
    {
     "name": "stderr",
     "output_type": "stream",
     "text": [
      "2023-01-23 14:09:16.932198: I tensorflow/core/platform/cpu_feature_guard.cc:193] This TensorFlow binary is optimized with oneAPI Deep Neural Network Library (oneDNN) to use the following CPU instructions in performance-critical operations:  SSE4.1 SSE4.2 AVX AVX2 FMA\n",
      "To enable them in other operations, rebuild TensorFlow with the appropriate compiler flags.\n"
     ]
    },
    {
     "ename": "FileNotFoundError",
     "evalue": "[Errno 2] No such file or directory: 'candles.npy'",
     "output_type": "error",
     "traceback": [
      "\u001b[0;31m---------------------------------------------------------------------------\u001b[0m",
      "\u001b[0;31mFileNotFoundError\u001b[0m                         Traceback (most recent call last)",
      "Cell \u001b[0;32mIn[1], line 6\u001b[0m\n\u001b[1;32m      3\u001b[0m \u001b[38;5;28;01mimport\u001b[39;00m \u001b[38;5;21;01mtensorflow\u001b[39;00m \u001b[38;5;28;01mas\u001b[39;00m \u001b[38;5;21;01mtf\u001b[39;00m\n\u001b[1;32m      5\u001b[0m \u001b[38;5;66;03m# Download the data\u001b[39;00m\n\u001b[0;32m----> 6\u001b[0m data \u001b[38;5;241m=\u001b[39m \u001b[43mnp\u001b[49m\u001b[38;5;241;43m.\u001b[39;49m\u001b[43mload\u001b[49m\u001b[43m(\u001b[49m\u001b[38;5;124;43m\"\u001b[39;49m\u001b[38;5;124;43mcandles.npy\u001b[39;49m\u001b[38;5;124;43m\"\u001b[39;49m\u001b[43m)\u001b[49m\n\u001b[1;32m      8\u001b[0m \u001b[38;5;66;03m# Reshape the images to (28, 28, 1)\u001b[39;00m\n\u001b[1;32m      9\u001b[0m data \u001b[38;5;241m=\u001b[39m data\u001b[38;5;241m.\u001b[39mreshape(\u001b[38;5;241m-\u001b[39m\u001b[38;5;241m1\u001b[39m, \u001b[38;5;241m28\u001b[39m, \u001b[38;5;241m28\u001b[39m, \u001b[38;5;241m1\u001b[39m)\n",
      "File \u001b[0;32m~/opt/anaconda3/envs/iannwtf/lib/python3.10/site-packages/numpy/lib/npyio.py:405\u001b[0m, in \u001b[0;36mload\u001b[0;34m(file, mmap_mode, allow_pickle, fix_imports, encoding, max_header_size)\u001b[0m\n\u001b[1;32m    403\u001b[0m     own_fid \u001b[38;5;241m=\u001b[39m \u001b[38;5;28;01mFalse\u001b[39;00m\n\u001b[1;32m    404\u001b[0m \u001b[38;5;28;01melse\u001b[39;00m:\n\u001b[0;32m--> 405\u001b[0m     fid \u001b[38;5;241m=\u001b[39m stack\u001b[38;5;241m.\u001b[39menter_context(\u001b[38;5;28;43mopen\u001b[39;49m\u001b[43m(\u001b[49m\u001b[43mos_fspath\u001b[49m\u001b[43m(\u001b[49m\u001b[43mfile\u001b[49m\u001b[43m)\u001b[49m\u001b[43m,\u001b[49m\u001b[43m \u001b[49m\u001b[38;5;124;43m\"\u001b[39;49m\u001b[38;5;124;43mrb\u001b[39;49m\u001b[38;5;124;43m\"\u001b[39;49m\u001b[43m)\u001b[49m)\n\u001b[1;32m    406\u001b[0m     own_fid \u001b[38;5;241m=\u001b[39m \u001b[38;5;28;01mTrue\u001b[39;00m\n\u001b[1;32m    408\u001b[0m \u001b[38;5;66;03m# Code to distinguish from NumPy binary files and pickles.\u001b[39;00m\n",
      "\u001b[0;31mFileNotFoundError\u001b[0m: [Errno 2] No such file or directory: 'candles.npy'"
     ]
    }
   ],
   "source": [
    "#Prepare the data set\n",
    "import numpy as np\n",
    "import tensorflow as tf\n",
    "\n",
    "# Download the data\n",
    "data = np.load(\"candles.npy\")\n",
    "\n",
    "# Reshape the images to (28, 28, 1)\n",
    "data = data.reshape(-1, 28, 28, 1)\n",
    "\n",
    "# Normalize the images\n",
    "data = data / 255\n",
    "\n",
    "# Create a tf.data.Dataset object\n",
    "dataset = tf.data.Dataset.from_tensor_slices(data)\n",
    "\n",
    "# Perform other necessary processing steps (batching, shuffling, etc)\n",
    "dataset = dataset.batch(batch_size).shuffle(buffer_size=1000)\n"
   ]
  },
  {
   "cell_type": "code",
   "execution_count": null,
   "id": "e796d84f-96a7-41e4-aac4-ca7429903bcd",
   "metadata": {},
   "outputs": [],
   "source": [
    "#The model\n",
    "class Discriminator(tf.keras.Model):\n",
    "    def __init__(self):\n",
    "        super(Discriminator, self).__init__()\n",
    "        self.conv1 = tf.keras.layers.Conv2D(64, kernel_size=3, strides=2, input_shape=(28, 28, 1))\n",
    "        self.conv2 = tf.keras.layers.Conv2D(128, kernel_size=3, strides=2)\n",
    "        self.dropout = tf.keras.layers.Dropout(0.5)\n",
    "        self.flatten = tf.keras.layers.Flatten()\n",
    "        self.dense = tf.keras.layers.Dense(1, activation='sigmoid')\n",
    "\n",
    "    def call(self, x, training=True):\n",
    "        x = self.conv1(x)\n",
    "        x = tf.nn.leaky_relu(x)\n",
    "        x = self.conv2(x)\n",
    "        x = tf.nn.leaky_relu(x)\n",
    "        x = self.dropout(x, training=training)\n",
    "        x = self.flatten(x)\n",
    "        x = self.dense(x)\n",
    "        return x\n",
    "\n",
    "class Generator(tf.keras.Model):\n",
    "    def __init__(self):\n",
    "        super(Generator, self).__init__()\n",
    "        self.dense = tf.keras.layers.Dense(7 * 7 * 64, input_shape=(100,))\n",
    "        self.reshape = tf.keras.layers.Reshape((7, 7, 64))\n",
    "        self.conv1 = tf.keras.layers.Conv2DTranspose(64, kernel_size=3, strides=2)\n",
    "        self.conv2 = tf.keras.layers.Conv2DTranspose(1, kernel_size=3, strides=2, activation='tanh')\n",
    "\n",
    "    def call(self, x, training=True):\n",
    "        x = self.dense(x)\n",
    "        x = tf.nn.leaky_relu(x)\n",
    "        x = self.reshape(x)\n",
    "        x = self.conv1(x)\n",
    "        x = tf.nn.leaky_relu(x)\n",
    "        x = self.conv2(x)\n",
    "        return x\n"
   ]
  },
  {
   "cell_type": "code",
   "execution_count": null,
   "id": "d94adb41-e7a3-4a95-8c5a-830f09275fae",
   "metadata": {},
   "outputs": [],
   "source": [
    "#Training\n",
    "# Define the loss functions and optimizers\n",
    "cross_entropy = tf.keras.losses.BinaryCrossentropy()\n",
    "d_optimizer = tf.keras.optimizers.Adam(learning_rate=0.0002)\n",
    "g_optimizer = tf.keras.optimizers.Adam(learning_rate=0.0002)\n",
    "\n",
    "# Define the training loop\n",
    "for epoch in range(num_epochs):\n",
    "    for step, real_images in enumerate(dataset):\n",
    "        # Generate fake images\n",
    "        random_noise = tf.random.normal([batch_size, 100])\n",
    "        fake_images = generator(random_noise, training=True)\n",
    "\n",
    "        # Compute the loss of the discriminator on real and fake images\n",
    "        real_logits = discriminator(real_images, training=True)\n",
    "        fake_logits = discriminator(fake_images, training=True)\n",
    "        d_loss_real = cross_entropy(tf.ones_like(real_logits), real_logits)\n",
    "        d_loss_fake = cross_entropy(tf.zeros_like(fake_logits), fake_logits)\n",
    "        d_loss = d_loss_real + d_loss_fake\n",
    "\n",
    "        # Backpropagate the discriminator's loss and update its parameters\n",
    "        d_optimizer.minimize(d_loss, discriminator.trainable_variables)\n",
    "\n",
    "        # Generate new random noise and compute the loss of the generator\n",
    "        random_noise = tf.random.normal([batch_size, 100])\n",
    "        fake_images = generator(random_noise, training=True)\n",
    "        fake_logits = discriminator(fake_images, training=True)\n",
    "        g_loss = cross_entropy(tf.ones_like(fake_logits), fake_logits)\n",
    "\n",
    "        # Backpropagate the generator's loss and update its parameters\n",
    "        g_optimizer.minimize(g_loss, generator.trainable_variables)\n",
    "\n",
    "    # Print the current losses\n",
    "    print(\"Epoch: {}, Discriminator Loss: {}, Generator Loss: {}\".format(epoch, d_loss, g_loss))\n",
    "\n",
    "# Visualize the generated images\n",
    "random_noise = tf.random.normal([batch_size, 100])\n",
    "generated_images = generator(random_noise, training=False)\n"
   ]
  },
  {
   "cell_type": "code",
   "execution_count": null,
   "id": "9703f45b-9e03-47c9-9b79-a35b18b493c2",
   "metadata": {},
   "outputs": [],
   "source": [
    "# display candle \n",
    "fig = plt.figure(figsize=(6, 6))\n",
    "for j in range(16):\n",
    "    plt.subplot(4, 4, j+1)\n",
    "    noise = tf.random.normal([1, 100])\n",
    "    generated_images = gan.generator(noise, training=False)\n",
    "    plt.imshow(generated_images[0, :, :, 0] * 127.5 + 127.5, cmap=\"gray_r\")\n",
    "    plt.axis('off')\n",
    "plt.show()"
   ]
  }
 ],
 "metadata": {
  "kernelspec": {
   "display_name": "Python 3 (ipykernel)",
   "language": "python",
   "name": "python3"
  },
  "language_info": {
   "codemirror_mode": {
    "name": "ipython",
    "version": 3
   },
   "file_extension": ".py",
   "mimetype": "text/x-python",
   "name": "python",
   "nbconvert_exporter": "python",
   "pygments_lexer": "ipython3",
   "version": "3.10.8"
  }
 },
 "nbformat": 4,
 "nbformat_minor": 5
}

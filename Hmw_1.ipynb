{
 "cells": [
  {
   "cell_type": "code",
   "execution_count": 2,
   "metadata": {},
   "outputs": [
    {
     "name": "stdout",
     "output_type": "stream",
     "text": [
      " Hello! My name is Gee Po, and I am 2 years old. I am not too haevy, just 3 pound, and my color is Brown and I love playing with other cats like you.\n",
      " Hi! Gee. I am Taw Wee. I am older than you, 3 years old. and my weight is 4 pound. My color is Yellow, and like you I enjoy playing with other cats.\n"
     ]
    }
   ],
   "source": [
    "#ex.2.1\n",
    "class Cat(): #(object) ending not required\n",
    "  def __init__(self, name, lastname, age, weight, color): # Constructor: These parameters will be used upon class calling(Except self)\n",
    "    self.name = name # self refers to global variables that can only be used throughout the class\n",
    "    self.lastname = lastname\n",
    "    self.age = age\n",
    "    self.weight = weight \n",
    "    self.color = color\n",
    "  def Introducecat(self): # self is almost always required for a function in a class, unless you don't want to use any of the global class variables\n",
    "    print (f\" Hello! My name is {self.name} {self.lastname}, and I am {self.age} years old. I am not too haevy, just {self.weight} pound, and my color is {self.color} and I love playing with other cats like you.\")\n",
    "\n",
    "  \n",
    "  def Introducekittyconcert (self):\n",
    "    print(f\" Hi! Gee. I am {self.name} {self.lastname}. I am older than you, {self.age} years old. and my weight is {self.weight} pound. My color is {self.color}, and like you I enjoy playing with other cats.\")\n",
    "\n",
    "cat1 = Cat(\"Gee\",\"Po\", 2, 3, \"Brown\") #Creates new cat\n",
    "\n",
    "cat2 = Cat(\"Taw\",\"Wee\", 3, 4, \"Yellow\") #Creates cat2\n",
    "\n",
    "cat1.Introducecat() # Calls Introducecat function of cat1 \n",
    "cat2.Introducekittyconcert() # Calls Introducekittyconcert function of cat2"
   ]
  },
  {
   "cell_type": "code",
   "execution_count": 3,
   "metadata": {},
   "outputs": [
    {
     "name": "stdout",
     "output_type": "stream",
     "text": [
      " Hello! My name is Gee Po, and I am 2 years old. I am not too haevy, just 3 pound, and my color is Brown and I love playing with other cats like you.\n",
      " Hi! Gee. I am Taw Wee. I am older than you, 3 years old. and my weight is 4 pound. My color is Yellow, and like you I enjoy playing with other cats.\n"
     ]
    }
   ],
   "source": [
    "#ex2.1\n",
    "class Cat(): #(object) ending not required\n",
    "  def __init__(self, name, lastname, age, weight, color): # Constructor: These parameters will be used upon class calling(Except self)\n",
    "    self.name = name # self refers to global variables that can only be used throughout the class\n",
    "    self.lastname = lastname\n",
    "    self.age = age\n",
    "    self.weight = weight \n",
    "    self.color = color\n",
    "  def Introducecat(self): # self is almost always required for a function in a class, unless you don't want to use any of the global class variables\n",
    "    print (f\" Hello! My name is {self.name} {self.lastname}, and I am {self.age} years old. I am not too haevy, just {self.weight} pound, and my color is {self.color} and I love playing with other cats like you.\")\n",
    "    \n",
    "class Kitty(): #(object) ending not required\n",
    "  def __init__(self, name, lastname, age, weight, color): # Constructor: These parameters will be used upon class calling(Except self)\n",
    "    self.name = name # self refers to global variables that can only be used throughout the class\n",
    "    self.lastname = lastname\n",
    "    self.age = age\n",
    "    self.weight = weight \n",
    "    self.color = color\n",
    "  \n",
    "  def Introducekittyconcert (self):\n",
    "    print(f\" Hi! Gee. I am {self.name} {self.lastname}. I am older than you, {self.age} years old. and my weight is {self.weight} pound. My color is {self.color}, and like you I enjoy playing with other cats.\")\n",
    "\n",
    "cat1 = Cat(\"Gee\",\"Po\", 2, 3, \"Brown\") #Creates new cat\n",
    "\n",
    "kitty = Kitty(\"Taw\",\"Wee\", 3, 4, \"Yellow\") #Creates cat2\n",
    "\n",
    "cat1.Introducecat() # Calls Introducecat function of cat1 \n",
    "kitty.Introducekittyconcert() # Calls Introducekittyconcert function of cat2"
   ]
  },
  {
   "cell_type": "code",
   "execution_count": 6,
   "metadata": {},
   "outputs": [
    {
     "data": {
      "text/plain": [
       "[0,\n",
       " 1,\n",
       " 4,\n",
       " 9,\n",
       " 16,\n",
       " 25,\n",
       " 36,\n",
       " 49,\n",
       " 64,\n",
       " 81,\n",
       " 100,\n",
       " 121,\n",
       " 144,\n",
       " 169,\n",
       " 196,\n",
       " 225,\n",
       " 256,\n",
       " 289,\n",
       " 324,\n",
       " 361,\n",
       " 400,\n",
       " 441,\n",
       " 484,\n",
       " 529,\n",
       " 576,\n",
       " 625,\n",
       " 676,\n",
       " 729,\n",
       " 784,\n",
       " 841,\n",
       " 900,\n",
       " 961,\n",
       " 1024,\n",
       " 1089,\n",
       " 1156,\n",
       " 1225,\n",
       " 1296,\n",
       " 1369,\n",
       " 1444,\n",
       " 1521,\n",
       " 1600,\n",
       " 1681,\n",
       " 1764,\n",
       " 1849,\n",
       " 1936,\n",
       " 2025,\n",
       " 2116,\n",
       " 2209,\n",
       " 2304,\n",
       " 2401,\n",
       " 2500,\n",
       " 2601,\n",
       " 2704,\n",
       " 2809,\n",
       " 2916,\n",
       " 3025,\n",
       " 3136,\n",
       " 3249,\n",
       " 3364,\n",
       " 3481,\n",
       " 3600,\n",
       " 3721,\n",
       " 3844,\n",
       " 3969,\n",
       " 4096,\n",
       " 4225,\n",
       " 4356,\n",
       " 4489,\n",
       " 4624,\n",
       " 4761,\n",
       " 4900,\n",
       " 5041,\n",
       " 5184,\n",
       " 5329,\n",
       " 5476,\n",
       " 5625,\n",
       " 5776,\n",
       " 5929,\n",
       " 6084,\n",
       " 6241,\n",
       " 6400,\n",
       " 6561,\n",
       " 6724,\n",
       " 6889,\n",
       " 7056,\n",
       " 7225,\n",
       " 7396,\n",
       " 7569,\n",
       " 7744,\n",
       " 7921,\n",
       " 8100,\n",
       " 8281,\n",
       " 8464,\n",
       " 8649,\n",
       " 8836,\n",
       " 9025,\n",
       " 9216,\n",
       " 9409,\n",
       " 9604,\n",
       " 9801,\n",
       " 10000]"
      ]
     },
     "execution_count": 6,
     "metadata": {},
     "output_type": "execute_result"
    }
   ],
   "source": [
    "#ex.2.2\n",
    "[i**2 for i in range (0,101)]\n",
    "    "
   ]
  },
  {
   "cell_type": "code",
   "execution_count": 13,
   "metadata": {},
   "outputs": [
    {
     "name": "stdout",
     "output_type": "stream",
     "text": [
      "2\n",
      "4\n",
      "6\n",
      "8\n",
      "10\n",
      "12\n",
      "14\n",
      "16\n",
      "18\n",
      "20\n",
      "22\n",
      "24\n",
      "26\n",
      "28\n",
      "30\n",
      "32\n",
      "34\n",
      "36\n",
      "38\n",
      "40\n",
      "42\n",
      "44\n",
      "46\n",
      "48\n",
      "50\n",
      "52\n",
      "54\n",
      "56\n",
      "58\n",
      "60\n",
      "62\n",
      "64\n",
      "66\n",
      "68\n",
      "70\n",
      "72\n",
      "74\n",
      "76\n",
      "78\n",
      "80\n",
      "82\n",
      "84\n",
      "86\n",
      "88\n",
      "90\n",
      "92\n",
      "94\n",
      "96\n",
      "98\n",
      "100\n"
     ]
    }
   ],
   "source": [
    "#ex.2.2\n",
    "import math \n",
    "for x in range(1, 101): \n",
    "    if x % 2 == 0:\n",
    "        print(x)"
   ]
  },
  {
   "cell_type": "code",
   "execution_count": 2,
   "metadata": {},
   "outputs": [
    {
     "name": "stdout",
     "output_type": "stream",
     "text": [
      "<generator object createGenerator at 0x7fe37ccf8270>\n",
      "Meow\n",
      "MeowMeow\n",
      "MeowMeowMeowMeow\n",
      "MeowMeowMeowMeowMeowMeowMeowMeow\n"
     ]
    }
   ],
   "source": [
    "#ex.2.3\n",
    "def createGenerator():\n",
    "    mylist = [1,2,4,8]\n",
    "    for i in mylist:\n",
    "        yield \"Meow\"*i\n",
    "        \n",
    "mygenerator = createGenerator()\n",
    "print (mygenerator)\n",
    "\n",
    "for i in mygenerator:\n",
    "    print (i)\n"
   ]
  },
  {
   "cell_type": "code",
   "execution_count": 3,
   "metadata": {},
   "outputs": [
    {
     "name": "stdout",
     "output_type": "stream",
     "text": [
      "[2.54843646 0.53096296 0.30347616 0.15419113 0.25960808]\n"
     ]
    }
   ],
   "source": [
    "#ex.2.4\n",
    "import numpy as np \n",
    "\n",
    "arr0 = np.random.normal(size = (5,5))\n",
    "\n",
    "x = np.random.normal(size = (5,5))\n",
    "\n",
    "if  x.all() > 0.09:\n",
    "    x = x**2\n",
    "else:\n",
    "    x = 42\n",
    "\n",
    "print (x[3])"
   ]
  },
  {
   "cell_type": "code",
   "execution_count": 15,
   "metadata": {},
   "outputs": [
    {
     "name": "stdout",
     "output_type": "stream",
     "text": [
      "[[ 1.02541152 -0.3973496   2.04419657 -2.85055212  1.58427109]\n",
      " [ 1.44783008  0.10012874 -0.14848862  1.26155731  0.19859627]\n",
      " [-1.15447884  0.20041507  1.0651249  -1.73049222  0.14301872]\n",
      " [-1.25147242 -1.74414646  1.02904489  1.95937331  0.12248116]\n",
      " [-0.67273693 -1.02234505  0.13750836  1.68893268 -0.77812049]]\n",
      "[[-1.20061941 -0.63853649  0.00980663  0.08063378  1.39281229]\n",
      " [ 1.36824022 -0.3889005  -0.2311376  -0.09249042  0.64784919]\n",
      " [-0.97504145  0.54299187  0.83703698 -0.88096655 -0.33978525]\n",
      " [-0.89177944  1.0780816  -0.81649476 -0.18849389 -0.41569143]\n",
      " [ 0.11649832 -1.84966998 -0.08367055 -0.32878941 -1.0605894 ]]\n",
      "[0.79527056 1.16225993 0.6666637  0.03552995 0.17279937]\n"
     ]
    }
   ],
   "source": [
    "#ex.2.4\n",
    "import numpy as np \n",
    "\n",
    "arr0 = np.random.normal(size = (5,5))\n",
    "\n",
    "print (arr0)\n",
    "\n",
    "x = np.random.normal(size = (5,5))\n",
    "print (x)\n",
    "\n",
    "if  x.all() > 0.09:\n",
    "    x = x**2\n",
    "else:\n",
    "    x = 42\n",
    "\n",
    "print (x[3])"
   ]
  },
  {
   "cell_type": "code",
   "execution_count": 17,
   "metadata": {},
   "outputs": [],
   "source": [
    "#ex.3\n",
    "import sympy as sym\n"
   ]
  },
  {
   "cell_type": "code",
   "execution_count": 18,
   "metadata": {},
   "outputs": [
    {
     "data": {
      "text/latex": [
       "$\\displaystyle 4 a x^{2} + a + 3 + \\frac{1}{1 + e^{- z}} + \\frac{1}{\\left(1 + e^{- b}\\right)^{2}}$"
      ],
      "text/plain": [
       "4*a*x**2 + a + 3 + 1/(1 + exp(-z)) + (1 + exp(-b))**(-2)"
      ]
     },
     "execution_count": 18,
     "metadata": {},
     "output_type": "execute_result"
    }
   ],
   "source": [
    "x, a, b, z= sym.symbols('x, a, b, z')\n",
    "y= (4 * a * x**2 +a) +3+ ( 1 / (1 + sym.exp(-z))) +(1 / (1 + sym.exp(-b))**2)\n",
    "\n",
    "y"
   ]
  },
  {
   "cell_type": "code",
   "execution_count": 19,
   "metadata": {},
   "outputs": [
    {
     "data": {
      "text/latex": [
       "$\\displaystyle 8 a x$"
      ],
      "text/plain": [
       "8*a*x"
      ]
     },
     "execution_count": 19,
     "metadata": {},
     "output_type": "execute_result"
    }
   ],
   "source": [
    "derivative_y = y.diff(x)\n",
    "derivative_y \n"
   ]
  },
  {
   "cell_type": "code",
   "execution_count": 20,
   "metadata": {},
   "outputs": [],
   "source": [
    "derivative_y = y.diff(z)"
   ]
  },
  {
   "cell_type": "code",
   "execution_count": 1,
   "metadata": {},
   "outputs": [
    {
     "name": "stdout",
     "output_type": "stream",
     "text": [
      "8*a*x\n",
      "1\n",
      "4*x**2 + 1\n",
      "2*b\n"
     ]
    }
   ],
   "source": [
    "from sympy import symbols\n",
    "\n",
    "x,z, a, b = symbols('x z a b')\n",
    "\n",
    "f = (4 * a * x**2) + (a) + 3 + z + b**2\n",
    "\n",
    "derivative_f_x = f.diff(x)\n",
    "derivative_f_z = f.diff(z)\n",
    "derivative_f_a = f.diff(a)\n",
    "derivative_f_b = f.diff(b)\n",
    "\n",
    "print (derivative_f_x)\n",
    "print (derivative_f_z)\n",
    "print (derivative_f_a)\n",
    "print (derivative_f_b)"
   ]
  },
  {
   "cell_type": "code",
   "execution_count": null,
   "metadata": {},
   "outputs": [],
   "source": []
  }
 ],
 "metadata": {
  "kernelspec": {
   "display_name": "Python 3",
   "language": "python",
   "name": "python3"
  },
  "language_info": {
   "codemirror_mode": {
    "name": "ipython",
    "version": 3
   },
   "file_extension": ".py",
   "mimetype": "text/x-python",
   "name": "python",
   "nbconvert_exporter": "python",
   "pygments_lexer": "ipython3",
   "version": "3.8.3"
  }
 },
 "nbformat": 4,
 "nbformat_minor": 4
}

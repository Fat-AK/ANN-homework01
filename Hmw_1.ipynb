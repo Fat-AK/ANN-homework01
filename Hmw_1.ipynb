{
 "cells": [
  {
   "cell_type": "code",
   "execution_count": 1,
   "metadata": {},
   "outputs": [
    {
     "name": "stdout",
     "output_type": "stream",
     "text": [
      " Hello! My name is Gee Po, and I am 2 years old. I am not too haevy, just 3 pound, and my color is Brown and I love playing with other cats like you.\n",
      " Hi! Gee. I am Taw Wee. I am older than you, 3 years old. and my weight is 4 pound. My color is Yellow, and like you I enjoy playing with other cats.\n"
     ]
    }
   ],
   "source": [
    "#ex.2.1\n",
    "class Cat(): #(object) ending not required\n",
    "  def __init__(self, name, lastname, age, weight, color): # Constructor: These parameters will be used upon class calling(Except self)\n",
    "    self.name = name # self refers to global variables that can only be used throughout the class\n",
    "    self.lastname = lastname\n",
    "    self.age = age\n",
    "    self.weight = weight \n",
    "    self.color = color\n",
    "  def Introducecat(self): # self is almost always required for a function in a class, unless you don't want to use any of the global class variables\n",
    "    print (f\" Hello! My name is {self.name} {self.lastname}, and I am {self.age} years old. I am not too haevy, just {self.weight} pound, and my color is {self.color} and I love playing with other cats like you.\")\n",
    "\n",
    "  \n",
    "  def Introducekittyconcert (self):\n",
    "    print(f\" Hi! Gee. I am {self.name} {self.lastname}. I am older than you, {self.age} years old. and my weight is {self.weight} pound. My color is {self.color}, and like you I enjoy playing with other cats.\")\n",
    "\n",
    "cat1 = Cat(\"Gee\",\"Po\", 2, 3, \"Brown\") #Creates new cat\n",
    "\n",
    "cat2 = Cat(\"Taw\",\"Wee\", 3, 4, \"Yellow\") #Creates cat2\n",
    "\n",
    "cat1.Introducecat() # Calls Introducecat function of cat1 \n",
    "cat2.Introducekittyconcert() # Calls Introducekittyconcert function of cat2"
   ]
  },
  {
   "cell_type": "code",
   "execution_count": 2,
   "metadata": {},
   "outputs": [
    {
     "name": "stdout",
     "output_type": "stream",
     "text": [
      " Hello! My name is Gee Po, and I am 2 years old. I am not too haevy, just 3 pound, and my color is Brown and I love playing with other cats like you.\n",
      " Hi! Gee. I am Taw Wee. I am older than you, 3 years old. and my weight is 4 pound. My color is Yellow, and like you I enjoy playing with other cats.\n"
     ]
    }
   ],
   "source": [
    "#ex2.1\n",
    "class Cat(): #(object) ending not required\n",
    "  def __init__(self, name, lastname, age, weight, color): # Constructor: These parameters will be used upon class calling(Except self)\n",
    "    self.name = name # self refers to global variables that can only be used throughout the class\n",
    "    self.lastname = lastname\n",
    "    self.age = age\n",
    "    self.weight = weight \n",
    "    self.color = color\n",
    "  def Introducecat(self): # self is almost always required for a function in a class, unless you don't want to use any of the global class variables\n",
    "    print (f\" Hello! My name is {self.name} {self.lastname}, and I am {self.age} years old. I am not too haevy, just {self.weight} pound, and my color is {self.color} and I love playing with other cats like you.\")\n",
    "    \n",
    "class Kitty(): #(object) ending not required\n",
    "  def __init__(self, name, lastname, age, weight, color): # Constructor: These parameters will be used upon class calling(Except self)\n",
    "    self.name = name # self refers to global variables that can only be used throughout the class\n",
    "    self.lastname = lastname\n",
    "    self.age = age\n",
    "    self.weight = weight \n",
    "    self.color = color\n",
    "  \n",
    "  def Introducekittyconcert (self):\n",
    "    print(f\" Hi! Gee. I am {self.name} {self.lastname}. I am older than you, {self.age} years old. and my weight is {self.weight} pound. My color is {self.color}, and like you I enjoy playing with other cats.\")\n",
    "\n",
    "cat1 = Cat(\"Gee\",\"Po\", 2, 3, \"Brown\") #Creates new cat\n",
    "\n",
    "kitty = Kitty(\"Taw\",\"Wee\", 3, 4, \"Yellow\") #Creates cat2\n",
    "\n",
    "cat1.Introducecat() # Calls Introducecat function of cat1 \n",
    "kitty.Introducekittyconcert() # Calls Introducekittyconcert function of cat2"
   ]
  },
  {
   "cell_type": "code",
   "execution_count": 3,
   "metadata": {},
   "outputs": [
    {
     "data": {
      "text/plain": [
       "[0,\n",
       " 1,\n",
       " 4,\n",
       " 9,\n",
       " 16,\n",
       " 25,\n",
       " 36,\n",
       " 49,\n",
       " 64,\n",
       " 81,\n",
       " 100,\n",
       " 121,\n",
       " 144,\n",
       " 169,\n",
       " 196,\n",
       " 225,\n",
       " 256,\n",
       " 289,\n",
       " 324,\n",
       " 361,\n",
       " 400,\n",
       " 441,\n",
       " 484,\n",
       " 529,\n",
       " 576,\n",
       " 625,\n",
       " 676,\n",
       " 729,\n",
       " 784,\n",
       " 841,\n",
       " 900,\n",
       " 961,\n",
       " 1024,\n",
       " 1089,\n",
       " 1156,\n",
       " 1225,\n",
       " 1296,\n",
       " 1369,\n",
       " 1444,\n",
       " 1521,\n",
       " 1600,\n",
       " 1681,\n",
       " 1764,\n",
       " 1849,\n",
       " 1936,\n",
       " 2025,\n",
       " 2116,\n",
       " 2209,\n",
       " 2304,\n",
       " 2401,\n",
       " 2500,\n",
       " 2601,\n",
       " 2704,\n",
       " 2809,\n",
       " 2916,\n",
       " 3025,\n",
       " 3136,\n",
       " 3249,\n",
       " 3364,\n",
       " 3481,\n",
       " 3600,\n",
       " 3721,\n",
       " 3844,\n",
       " 3969,\n",
       " 4096,\n",
       " 4225,\n",
       " 4356,\n",
       " 4489,\n",
       " 4624,\n",
       " 4761,\n",
       " 4900,\n",
       " 5041,\n",
       " 5184,\n",
       " 5329,\n",
       " 5476,\n",
       " 5625,\n",
       " 5776,\n",
       " 5929,\n",
       " 6084,\n",
       " 6241,\n",
       " 6400,\n",
       " 6561,\n",
       " 6724,\n",
       " 6889,\n",
       " 7056,\n",
       " 7225,\n",
       " 7396,\n",
       " 7569,\n",
       " 7744,\n",
       " 7921,\n",
       " 8100,\n",
       " 8281,\n",
       " 8464,\n",
       " 8649,\n",
       " 8836,\n",
       " 9025,\n",
       " 9216,\n",
       " 9409,\n",
       " 9604,\n",
       " 9801,\n",
       " 10000]"
      ]
     },
     "execution_count": 3,
     "metadata": {},
     "output_type": "execute_result"
    }
   ],
   "source": [
    "#ex.2.2\n",
    "[i**2 for i in range (0,101)]\n",
    "    "
   ]
  },
  {
   "cell_type": "code",
   "execution_count": 4,
   "metadata": {},
   "outputs": [
    {
     "name": "stdout",
     "output_type": "stream",
     "text": [
      "2\n",
      "4\n",
      "6\n",
      "8\n",
      "10\n",
      "12\n",
      "14\n",
      "16\n",
      "18\n",
      "20\n",
      "22\n",
      "24\n",
      "26\n",
      "28\n",
      "30\n",
      "32\n",
      "34\n",
      "36\n",
      "38\n",
      "40\n",
      "42\n",
      "44\n",
      "46\n",
      "48\n",
      "50\n",
      "52\n",
      "54\n",
      "56\n",
      "58\n",
      "60\n",
      "62\n",
      "64\n",
      "66\n",
      "68\n",
      "70\n",
      "72\n",
      "74\n",
      "76\n",
      "78\n",
      "80\n",
      "82\n",
      "84\n",
      "86\n",
      "88\n",
      "90\n",
      "92\n",
      "94\n",
      "96\n",
      "98\n",
      "100\n"
     ]
    }
   ],
   "source": [
    "#ex.2.2\n",
    "import math \n",
    "for x in range(1, 101): \n",
    "    if x % 2 == 0:\n",
    "        print(x)"
   ]
  },
  {
   "cell_type": "code",
   "execution_count": 5,
   "metadata": {},
   "outputs": [
    {
     "name": "stdout",
     "output_type": "stream",
     "text": [
      "<generator object createGenerator at 0x00000237941A97B0>\n",
      "Meow\n",
      "MeowMeow\n",
      "MeowMeowMeowMeow\n",
      "MeowMeowMeowMeowMeowMeowMeowMeow\n"
     ]
    }
   ],
   "source": [
    "#ex.2.3\n",
    "def createGenerator():\n",
    "    mylist = [1,2,4,8]\n",
    "    for i in mylist:\n",
    "        yield \"Meow\"*i\n",
    "        \n",
    "mygenerator = createGenerator()\n",
    "print (mygenerator)\n",
    "\n",
    "for i in mygenerator:\n",
    "    print (i)\n"
   ]
  },
  {
   "cell_type": "code",
   "execution_count": 6,
   "metadata": {},
   "outputs": [
    {
     "name": "stdout",
     "output_type": "stream",
     "text": [
      "[2.71396522e+00 1.14542529e-03 7.40727870e-01 2.29699186e+00\n",
      " 5.97839848e-02]\n"
     ]
    }
   ],
   "source": [
    "#ex.2.4\n",
    "import numpy as np \n",
    "\n",
    "arr0 = np.random.normal(size = (5,5))\n",
    "\n",
    "x = np.random.normal(size = (5,5))\n",
    "\n",
    "if  x.all() > 0.09:\n",
    "    x = x**2\n",
    "else:\n",
    "    x = 42\n",
    "\n",
    "print (x[3])"
   ]
  },
  {
   "cell_type": "code",
   "execution_count": 7,
   "metadata": {},
   "outputs": [
    {
     "name": "stdout",
     "output_type": "stream",
     "text": [
      "[[ 0.25081692  0.89700741  0.31245599 -1.44802573 -2.29993201]\n",
      " [-1.76126077  0.1286166  -0.28992418 -0.48810502  0.77288117]\n",
      " [ 0.59107299 -0.61342323 -0.44447806 -0.14673328  0.41533207]\n",
      " [ 0.25282509 -1.21704077  0.30485114  0.46384696  0.1359154 ]\n",
      " [ 0.20516695  1.19624609 -0.70431437 -1.94226991 -2.07819711]]\n",
      "[[-1.8986884   2.35129317  2.84279889  0.35140815  1.80454431]\n",
      " [-0.05342727 -0.37032474 -1.73800225  1.46165352  0.80440151]\n",
      " [ 0.99570853 -0.52671625 -1.53140765  0.75171377 -1.11646104]\n",
      " [-0.03600162  1.07852042 -0.70434324 -0.38655143 -0.40848921]\n",
      " [ 1.73483311  0.43410434  0.49741348 -0.44914456 -0.99826776]]\n",
      "[0.00129612 1.16320629 0.4960994  0.149422   0.16686343]\n"
     ]
    }
   ],
   "source": [
    "#ex.2.4\n",
    "import numpy as np \n",
    "\n",
    "arr0 = np.random.normal(size = (5,5))\n",
    "\n",
    "print (arr0)\n",
    "\n",
    "x = np.random.normal(size = (5,5))\n",
    "print (x)\n",
    "\n",
    "if  x.all() > 0.09:\n",
    "    x = x**2\n",
    "else:\n",
    "    x = 42\n",
    "\n",
    "print (x[3])"
   ]
  },
  {
   "cell_type": "code",
   "execution_count": 8,
   "metadata": {},
   "outputs": [
    {
     "name": "stdout",
     "output_type": "stream",
     "text": [
      "8*a*x\n",
      "1\n",
      "4*x**2 + 1\n",
      "2*b\n"
     ]
    }
   ],
   "source": [
    "#ex.3\n",
    "from sympy import symbols\n",
    "\n",
    "\n",
    "x,z, a, b = symbols('x z a b')\n",
    "\n",
    "f = (4 * a * x**2) + (a) + 3 + z + b**2\n",
    "\n",
    "derivative_f_x = f.diff(x)\n",
    "derivative_f_z = f.diff(z)\n",
    "derivative_f_a = f.diff(a)\n",
    "derivative_f_b = f.diff(b)\n",
    "\n",
    "print (derivative_f_x)\n",
    "print (derivative_f_z)\n",
    "print (derivative_f_a)\n",
    "print (derivative_f_b)\n"
   ]
  }
 ],
 "metadata": {
  "kernelspec": {
   "display_name": "Python 3.9.12 ('base')",
   "language": "python",
   "name": "python3"
  },
  "language_info": {
   "codemirror_mode": {
    "name": "ipython",
    "version": 3
   },
   "file_extension": ".py",
   "mimetype": "text/x-python",
   "name": "python",
   "nbconvert_exporter": "python",
   "pygments_lexer": "ipython3",
   "version": "3.9.12"
  },
  "vscode": {
   "interpreter": {
    "hash": "77e439808f4d7a9589c387863d6524822428235edb4ad8dafc1802a094e17dc4"
   }
  }
 },
 "nbformat": 4,
 "nbformat_minor": 4
}

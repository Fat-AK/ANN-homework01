{
  "nbformat": 4,
  "nbformat_minor": 0,
  "metadata": {
    "colab": {
      "provenance": [],
      "authorship_tag": "ABX9TyPsC0wFVlaNoD9TYhCIWHn+",
      "include_colab_link": true
    },
    "kernelspec": {
      "name": "python3",
      "display_name": "Python 3"
    },
    "language_info": {
      "name": "python"
    },
    "accelerator": "GPU",
    "gpuClass": "standard"
  },
  "cells": [
    {
      "cell_type": "markdown",
      "metadata": {
        "id": "view-in-github",
        "colab_type": "text"
      },
      "source": [
        "<a href=\"https://colab.research.google.com/github/Fat-AK/Implementing-ANNs-with-TensorFlow/blob/main/Hmw_4.ipynb\" target=\"_parent\"><img src=\"https://colab.research.google.com/assets/colab-badge.svg\" alt=\"Open In Colab\"/></a>"
      ]
    },
    {
      "cell_type": "code",
      "source": [
        "import tensorflow as tf"
      ],
      "metadata": {
        "id": "J2-9aK9Tu-Id"
      },
      "execution_count": 1,
      "outputs": []
    },
    {
      "cell_type": "code",
      "source": [
        "# Import TensorFlow Datasets\n",
        "import tensorflow_datasets as tfds\n",
        "tfds.disable_progress_bar()\n",
        "\n",
        "# Helper libraries\n",
        "import math\n",
        "import numpy as np\n",
        "import matplotlib.pyplot as plt"
      ],
      "metadata": {
        "id": "f63_VtLFvshP"
      },
      "execution_count": 2,
      "outputs": []
    },
    {
      "cell_type": "code",
      "source": [
        "import logging\n",
        "logger = tf.get_logger()\n",
        "logger.setLevel(logging.ERROR)"
      ],
      "metadata": {
        "id": "mfQPUKqEwC6j"
      },
      "execution_count": 3,
      "outputs": []
    },
    {
      "cell_type": "code",
      "source": [
        "dataset, metadata = tfds.load('mnist', as_supervised=True, with_info=True)\n",
        "train_dataset, test_dataset = dataset['train'], dataset['test']"
      ],
      "metadata": {
        "id": "RMGP5wNzxxk0",
        "colab": {
          "base_uri": "https://localhost:8080/"
        },
        "outputId": "035ddc03-e95f-4577-d524-bf55f98f63c6"
      },
      "execution_count": 4,
      "outputs": [
        {
          "output_type": "stream",
          "name": "stdout",
          "text": [
            "Downloading and preparing dataset 11.06 MiB (download: 11.06 MiB, generated: 21.00 MiB, total: 32.06 MiB) to ~/tensorflow_datasets/mnist/3.0.1...\n",
            "Dataset mnist downloaded and prepared to ~/tensorflow_datasets/mnist/3.0.1. Subsequent calls will reuse this data.\n"
          ]
        }
      ]
    },
    {
      "cell_type": "code",
      "source": [
        "class_names = metadata.features['label'].names\n",
        "print(\"Class names: {}\".format(class_names))"
      ],
      "metadata": {
        "colab": {
          "base_uri": "https://localhost:8080/"
        },
        "id": "BHM0Pu3d5tuc",
        "outputId": "8819a9e4-f933-43a9-ce45-abb1d144a858"
      },
      "execution_count": 5,
      "outputs": [
        {
          "output_type": "stream",
          "name": "stdout",
          "text": [
            "Class names: ['0', '1', '2', '3', '4', '5', '6', '7', '8', '9']\n"
          ]
        }
      ]
    },
    {
      "cell_type": "code",
      "source": [
        "num_train_examples = metadata.splits['train'].num_examples\n",
        "num_test_examples = metadata.splits['test'].num_examples\n",
        "print(\"Number of training examples: {}\".format(num_train_examples))\n",
        "print(\"Number of test examples:     {}\".format(num_test_examples))"
      ],
      "metadata": {
        "colab": {
          "base_uri": "https://localhost:8080/"
        },
        "id": "iZ25Apzd5xLd",
        "outputId": "1e400700-55ae-4e2c-91d6-a5f4ba965f8f"
      },
      "execution_count": 6,
      "outputs": [
        {
          "output_type": "stream",
          "name": "stdout",
          "text": [
            "Number of training examples: 60000\n",
            "Number of test examples:     10000\n"
          ]
        }
      ]
    },
    {
      "cell_type": "code",
      "source": [
        "def normalize(images, labels):\n",
        "  images = tf.cast(images, tf.float32)\n",
        "  images /= 255\n",
        "  return images, labels\n",
        "\n",
        "# The map function applies the normalize function to each element in the train\n",
        "# and test datasets\n",
        "train_dataset =  train_dataset.map(normalize)\n",
        "test_dataset  =  test_dataset.map(normalize)\n",
        "\n",
        "# The first time you use the dataset, the images will be loaded from disk\n",
        "# Caching will keep them in memory, making training faster\n",
        "train_dataset =  train_dataset.cache()\n",
        "test_dataset  =  test_dataset.cache()"
      ],
      "metadata": {
        "id": "2u1CG9R250wU"
      },
      "execution_count": 7,
      "outputs": []
    },
    {
      "cell_type": "code",
      "source": [
        "# Take a single image, and remove the color dimension by reshaping\n",
        "for image, label in test_dataset.take(1):\n",
        "  break\n",
        "image = image.numpy().reshape((28,28))\n",
        "\n",
        "# Plot the image - voila a piece of fashion clothing\n",
        "plt.figure()\n",
        "plt.imshow(image, cmap=plt.cm.binary)\n",
        "plt.colorbar()\n",
        "plt.grid(False)\n",
        "plt.show()"
      ],
      "metadata": {
        "colab": {
          "base_uri": "https://localhost:8080/",
          "height": 269
        },
        "id": "cfUOQ-eV53zo",
        "outputId": "938e6a61-a1a5-4b55-d6fb-5f9cf6a8072b"
      },
      "execution_count": 8,
      "outputs": [
        {
          "output_type": "display_data",
          "data": {
            "text/plain": [
              "<Figure size 432x288 with 2 Axes>"
            ],
            "image/png": "[encoded data removed]"
          },
          "metadata": {
            "needs_background": "light"
          }
        }
      ]
    },
    {
      "cell_type": "code",
      "source": [
        "plt.figure(figsize=(10,10))\n",
        "for i, (image, label) in enumerate(train_dataset.take(25)):\n",
        "    image = image.numpy().reshape((28,28))\n",
        "    plt.subplot(5,5,i+1)\n",
        "    plt.xticks([])\n",
        "    plt.yticks([])\n",
        "    plt.grid(False)\n",
        "    plt.imshow(image, cmap=plt.cm.binary)\n",
        "    plt.xlabel(class_names[label])\n",
        "plt.show()"
      ],
      "metadata": {
        "colab": {
          "base_uri": "https://localhost:8080/",
          "height": 589
        },
        "id": "NesEUk2y5-CT",
        "outputId": "51335ec3-49dd-457a-8d5c-e64d4da18947"
      },
      "execution_count": 9,
      "outputs": [
        {
          "output_type": "display_data",
          "data": {
            "text/plain": [
              "<Figure size 720x720 with 25 Axes>"
            ],
            "image/png": "[encoded data removed]"
          },
          "metadata": {}
        }
      ]
    },
    {
      "cell_type": "code",
      "source": [
        "model = tf.keras.Sequential([tf.keras.layers.Flatten(input_shape=(28, 28, 1)),tf.keras.layers.Dense(128, activation=tf.nn.relu), tf.keras.layers.Dense(10, activation=tf.nn.softmax)])"
      ],
      "metadata": {
        "id": "TEr56FzI6JrX"
      },
      "execution_count": 10,
      "outputs": []
    },
    {
      "cell_type": "code",
      "source": [
        "model.compile(optimizer='adam',\n",
        "              loss=tf.keras.losses.SparseCategoricalCrossentropy(),\n",
        "              metrics=['accuracy'])"
      ],
      "metadata": {
        "id": "UNCj9ez66PM3"
      },
      "execution_count": 11,
      "outputs": []
    },
    {
      "cell_type": "code",
      "source": [
        "BATCH_SIZE = 32\n",
        "train_dataset = train_dataset.cache().repeat().shuffle(num_train_examples).batch(BATCH_SIZE)\n",
        "test_dataset = test_dataset.cache().batch(BATCH_SIZE)"
      ],
      "metadata": {
        "id": "zAvnnrN36Sg-"
      },
      "execution_count": 12,
      "outputs": []
    },
    {
      "cell_type": "code",
      "source": [
        "model.fit(train_dataset, epochs=5, steps_per_epoch=math.ceil(num_train_examples/BATCH_SIZE))"
      ],
      "metadata": {
        "colab": {
          "base_uri": "https://localhost:8080/"
        },
        "id": "hXthmbb66VRe",
        "outputId": "b42c2ab6-999b-45f3-8f46-7b2a0f7bb194"
      },
      "execution_count": 13,
      "outputs": [
        {
          "output_type": "stream",
          "name": "stdout",
          "text": [
            "Epoch 1/5\n",
            "1875/1875 [==============================] - 11s 3ms/step - loss: 0.2550 - accuracy: 0.9280\n",
            "Epoch 2/5\n",
            "1875/1875 [==============================] - 5s 3ms/step - loss: 0.1129 - accuracy: 0.9660\n",
            "Epoch 3/5\n",
            "1875/1875 [==============================] - 5s 3ms/step - loss: 0.0776 - accuracy: 0.9772\n",
            "Epoch 4/5\n",
            "1875/1875 [==============================] - 5s 3ms/step - loss: 0.0592 - accuracy: 0.9822\n",
            "Epoch 5/5\n",
            "1875/1875 [==============================] - 5s 3ms/step - loss: 0.0437 - accuracy: 0.9863\n"
          ]
        },
        {
          "output_type": "execute_result",
          "data": {
            "text/plain": [
              "<keras.callbacks.History at 0x7f34e0274c50>"
            ]
          },
          "metadata": {},
          "execution_count": 13
        }
      ]
    },
    {
      "cell_type": "code",
      "source": [
        "test_loss, test_accuracy = model.evaluate(test_dataset, steps=math.ceil(num_test_examples/32))\n",
        "print('Accuracy on test dataset:', test_accuracy)"
      ],
      "metadata": {
        "colab": {
          "base_uri": "https://localhost:8080/"
        },
        "id": "XioXXh837ebq",
        "outputId": "56c74b9c-aca1-4edf-ee29-8882741a0ffd"
      },
      "execution_count": 14,
      "outputs": [
        {
          "output_type": "stream",
          "name": "stdout",
          "text": [
            "313/313 [==============================] - 2s 5ms/step - loss: 0.0776 - accuracy: 0.9780\n",
            "Accuracy on test dataset: 0.9779999852180481\n"
          ]
        }
      ]
    },
    {
      "cell_type": "code",
      "source": [
        "for test_images, test_labels in test_dataset.take(1):\n",
        "  test_images = test_images.numpy()\n",
        "  test_labels = test_labels.numpy()\n",
        "\n",
        "  def sub1():\n",
        "      for a in test_labels:\n",
        "          if tf . add (a,a+1) >= 5:\n",
        "            print (a, a+1)\n",
        " \n",
        "sub1()\n"
      ],
      "metadata": {
        "id": "huT08_VR7mrl"
      },
      "execution_count": null,
      "outputs": []
    },
    {
      "cell_type": "code",
      "source": [
        "for test_images, test_labels in test_dataset.take(1):\n",
        "  test_images = test_images.numpy()\n",
        "  test_labels = test_labels.numpy()\n",
        "  \n",
        "def sub2():\n",
        "  for a in test_labels:\n",
        "    y = a - (a+1)\n",
        "    predictions = model.predict(y)\n",
        "\n",
        "print (predictions)"
      ],
      "metadata": {
        "colab": {
          "base_uri": "https://localhost:8080/"
        },
        "id": "4Od72bh-OeA3",
        "outputId": "9be8a4c2-a06a-4609-828f-038a6e05a2e1"
      },
      "execution_count": 49,
      "outputs": [
        {
          "output_type": "stream",
          "name": "stdout",
          "text": [
            "[[2.62661715e-08 2.96982057e-06 9.99994993e-01 1.46025997e-07\n",
            "  6.47292495e-07 3.61047103e-09 5.51785263e-07 4.10693985e-08\n",
            "  7.51180437e-07 1.35467131e-08]\n",
            " [9.99999881e-01 8.78096371e-19 3.80973329e-14 1.21173092e-17\n",
            "  2.54714877e-15 2.70835038e-11 1.04777932e-07 3.00024644e-10\n",
            "  3.89918783e-13 9.65933842e-15]\n",
            " [7.71517561e-13 5.57030482e-14 2.36488634e-10 3.31231501e-11\n",
            "  9.99990582e-01 1.72458090e-13 5.73071278e-12 2.85819669e-06\n",
            "  6.25106564e-12 6.58665067e-06]\n",
            " [2.71129884e-05 3.34290409e-04 3.41261475e-05 1.58583559e-03\n",
            "  3.20955905e-07 1.29263746e-04 5.28164637e-05 2.39975579e-05\n",
            "  9.97779906e-01 3.23562999e-05]\n",
            " [7.82661580e-09 5.80077132e-12 2.15510653e-07 3.57843123e-06\n",
            "  5.35777589e-10 5.50027107e-11 1.06776228e-14 9.99989986e-01\n",
            "  2.21587504e-09 6.21123627e-06]\n",
            " [2.53391397e-09 2.88584906e-10 3.12415382e-09 4.59131705e-10\n",
            "  2.29837949e-09 1.56410579e-06 9.99998331e-01 9.94058622e-14\n",
            "  1.03237980e-07 1.44454310e-10]\n",
            " [9.99999762e-01 3.03148724e-17 1.76950538e-10 9.40281449e-14\n",
            "  1.13608816e-13 1.47498040e-08 8.33543130e-12 1.70441865e-07\n",
            "  4.01652046e-13 5.14235543e-09]\n",
            " [4.31261724e-05 4.02168598e-06 2.35415200e-06 7.30669001e-07\n",
            "  3.30827277e-07 2.05727480e-03 9.96880293e-01 1.25921040e-09\n",
            "  1.01186498e-03 2.59916444e-08]\n",
            " [2.51038468e-10 1.78891105e-06 2.20270977e-06 9.97101605e-01\n",
            "  6.80556902e-13 2.85038934e-03 1.56027326e-11 7.37541556e-11\n",
            "  4.39783471e-05 3.62437969e-09]\n",
            " [2.16079783e-07 9.99883652e-01 2.41671569e-05 2.92880713e-06\n",
            "  1.05132273e-07 8.83690916e-07 1.15955063e-05 2.02518513e-05\n",
            "  5.62334753e-05 2.80564261e-09]\n",
            " [3.14917179e-06 9.94275737e-08 1.65086356e-03 3.01278732e-07\n",
            "  1.11217722e-02 7.58353993e-03 1.92008857e-02 1.18178732e-05\n",
            "  9.60425973e-01 1.60299123e-06]\n",
            " [9.99997020e-01 4.93821060e-11 6.69130827e-07 2.81173473e-10\n",
            "  7.45746377e-07 2.05461911e-10 1.32168998e-06 5.56486768e-08\n",
            "  4.34719460e-08 3.36870265e-08]\n",
            " [8.54066240e-09 9.25130875e-11 1.72792909e-06 1.87223141e-05\n",
            "  7.05607583e-15 2.00600736e-09 8.55463784e-16 9.99951482e-01\n",
            "  1.39156950e-11 2.80489148e-05]\n",
            " [3.04127856e-09 3.33529870e-11 1.10093190e-09 1.58462950e-04\n",
            "  8.29360142e-05 1.05688009e-08 2.62817925e-13 1.02430768e-03\n",
            "  3.04038142e-04 9.98430312e-01]\n",
            " [1.06725331e-08 4.39449005e-10 1.82268195e-05 1.64419157e-06\n",
            "  1.31327366e-10 2.11095519e-09 4.16682377e-09 1.47552708e-08\n",
            "  9.99979377e-01 7.55574320e-07]\n",
            " [1.25927556e-06 4.26645202e-16 1.24631129e-06 8.02722955e-09\n",
            "  9.99912500e-01 1.32219913e-09 9.09188032e-07 2.21613982e-06\n",
            "  8.16391112e-05 2.76906150e-07]\n",
            " [1.00198720e-08 6.48807882e-11 5.14494072e-11 1.22392947e-07\n",
            "  6.77312095e-11 9.99999881e-01 3.89644289e-10 4.07277892e-11\n",
            "  1.49580315e-09 2.15798321e-12]\n",
            " [1.55608621e-04 8.28634256e-06 6.06484889e-07 9.99190748e-01\n",
            "  3.08638093e-09 6.39842183e-04 9.68604326e-08 4.91242913e-09\n",
            "  8.22177526e-07 3.89552679e-06]\n",
            " [3.43524775e-12 8.88258364e-05 1.70920149e-08 3.32942045e-06\n",
            "  9.97012377e-01 1.13992691e-07 5.71243248e-13 4.32745856e-06\n",
            "  3.81069076e-05 2.85285781e-03]\n",
            " [9.99007046e-01 2.94206171e-09 8.20207279e-05 9.94057192e-09\n",
            "  9.24200450e-08 8.02275736e-06 3.64060213e-07 1.17540490e-04\n",
            "  7.79122638e-04 5.82525217e-06]\n",
            " [4.81551297e-06 1.20955758e-06 5.09972997e-05 7.23343783e-06\n",
            "  5.76364573e-06 1.92372154e-05 9.99892831e-01 2.96908956e-06\n",
            "  1.47193314e-05 1.61394809e-07]\n",
            " [3.26673921e-06 1.29608179e-05 1.20922508e-04 1.67007427e-04\n",
            "  1.19585820e-05 2.04690855e-06 9.99634147e-01 4.12447980e-06\n",
            "  4.32639536e-05 2.84704157e-07]\n",
            " [1.18112435e-08 3.93408845e-05 1.89531405e-04 9.99227285e-01\n",
            "  1.80986313e-12 5.42240334e-04 4.04745985e-12 9.74192602e-08\n",
            "  1.21313834e-10 1.56928627e-06]\n",
            " [9.96507943e-01 6.39081534e-08 4.77822641e-06 7.97789852e-08\n",
            "  6.86658154e-07 3.25341853e-06 3.42592085e-03 5.52359816e-05\n",
            "  1.26381065e-06 6.63569097e-07]\n",
            " [4.72589190e-11 1.17686985e-04 9.99877334e-01 4.76468676e-06\n",
            "  1.54543668e-14 1.62874256e-10 9.00186370e-10 2.67969241e-11\n",
            "  2.93969492e-07 6.46496288e-15]\n",
            " [8.93186458e-13 2.53842904e-06 3.41345583e-08 9.99896407e-01\n",
            "  7.62030283e-12 9.69226967e-05 6.11399340e-16 2.38880740e-14\n",
            "  2.44967941e-06 1.66847917e-06]\n",
            " [3.48986282e-06 3.83382430e-05 8.35873379e-06 1.47010578e-05\n",
            "  6.91432831e-07 2.92920682e-04 9.99410748e-01 2.53731813e-09\n",
            "  2.30822086e-04 5.29900568e-10]\n",
            " [2.45938686e-10 3.17717763e-07 5.81239021e-08 1.07945599e-08\n",
            "  4.02988967e-08 1.34672121e-07 9.99999523e-01 3.55183439e-13\n",
            "  3.26146155e-09 1.27820627e-12]\n",
            " [1.91990603e-06 1.50598538e-07 5.05417062e-04 2.80545410e-05\n",
            "  8.20808339e-07 2.77381531e-08 1.87960882e-08 9.99458849e-01\n",
            "  4.57636816e-06 1.38508355e-07]\n",
            " [2.08674223e-07 1.80466877e-08 2.18262400e-07 3.55599705e-09\n",
            "  9.99871731e-01 1.84521856e-08 5.46828147e-08 2.76116443e-05\n",
            "  2.90313951e-09 1.00068435e-04]\n",
            " [2.80948319e-02 7.23740868e-07 5.28782897e-04 6.85774576e-05\n",
            "  1.00593800e-02 1.33821170e-03 1.08773372e-06 8.25642407e-01\n",
            "  8.87871021e-04 1.33378029e-01]\n",
            " [2.59612275e-12 9.49511194e-13 1.85624334e-08 9.99997973e-01\n",
            "  7.62684480e-17 5.49632489e-07 2.74847881e-18 9.25752443e-12\n",
            "  4.22955698e-10 1.44211447e-06]]\n"
          ]
        }
      ]
    }
  ]
}